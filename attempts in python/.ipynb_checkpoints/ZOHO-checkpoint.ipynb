{
 "cells": [
  {
   "cell_type": "code",
   "execution_count": 1,
   "id": "06d89877",
   "metadata": {},
   "outputs": [],
   "source": [
    "#input -> alphabet\n",
    "#output -> lph\n",
    "\n",
    "#input -> america\n",
    "#output -> m, r, c\n",
    "\n",
    "#input -> single\n",
    "#output -> ngl"
   ]
  },
  {
   "cell_type": "code",
   "execution_count": 60,
   "id": "0a74a618",
   "metadata": {},
   "outputs": [
    {
     "name": "stdout",
     "output_type": "stream",
     "text": [
      "america\n",
      "m\n",
      "r\n",
      "c\n"
     ]
    }
   ],
   "source": [
    "#Taking the input\n",
    "inp = input()\n",
    "#Declaring a list to append valid outputs\n",
    "res = []\n",
    "#list of vowels\n",
    "vowels = list(\"aeiou\")\n",
    "#vowel count\n",
    "vc = 0\n",
    "#index to find where the iteration is stopped\n",
    "index = 0\n",
    "#while loop to loop through string multiple times\n",
    "while index < len(inp):\n",
    "    #\n",
    "    temp = str()\n",
    "    for i in range(index,len(inp)):\n",
    "        if vc == 2:\n",
    "            index -= 1\n",
    "            if temp != \"\":\n",
    "                res.append(temp)\n",
    "            vc = 0\n",
    "            break\n",
    "        if inp[i] not in vowels and vc > 0:\n",
    "            temp += inp[i]\n",
    "        else:\n",
    "            vc += 1\n",
    "        index += 1\n",
    "else:\n",
    "    if vc == 2:\n",
    "        res.append(temp)\n",
    "\n",
    "m = 0\n",
    "for i in res:\n",
    "    m = max(m, len(i))\n",
    "for i in res:\n",
    "    if len(i) == m:\n",
    "        print(i)"
   ]
  },
  {
   "cell_type": "code",
   "execution_count": 77,
   "id": "4725f3d9",
   "metadata": {},
   "outputs": [
    {
     "name": "stdout",
     "output_type": "stream",
     "text": [
      "Enter input: alphabet\n",
      "\n",
      "all outputs ->  ['lph', 'b']\n",
      "\n",
      "Longest substring is: \n",
      "lph\n"
     ]
    }
   ],
   "source": [
    "#optimising the solution\n",
    "\n",
    "#Taking the input\n",
    "inp = input(\"Enter input: \")\n",
    "#Declaring a list to append valid outputs\n",
    "res = []\n",
    "#list of vowels\n",
    "vowels = list(\"aeiou\")\n",
    "#vowel count\n",
    "vc = 0\n",
    "#loop through string\n",
    "temp = str()\n",
    "for i in range(len(inp)):\n",
    "    if inp[i] in vowels:\n",
    "        vc += 1\n",
    "        if vc == 2:\n",
    "            res.append(temp)\n",
    "            temp = \"\"\n",
    "            vc -= 1\n",
    "    else:\n",
    "        if vc > 0:\n",
    "            temp += inp[i]\n",
    "if len(res) == 0:\n",
    "    print(\"No valid strings found\")\n",
    "else:\n",
    "    print(\"\\nall outputs -> \", res)\n",
    "    print(\"\\nLongest substring is: \")\n",
    "    m = 0\n",
    "    for i in res:\n",
    "        m = max(m, len(i))\n",
    "    for i in res:\n",
    "        if len(i) == m:\n",
    "            print(i)"
   ]
  },
  {
   "cell_type": "code",
   "execution_count": null,
   "id": "27db3977",
   "metadata": {},
   "outputs": [],
   "source": []
  },
  {
   "cell_type": "code",
   "execution_count": null,
   "id": "c2f72d66",
   "metadata": {},
   "outputs": [],
   "source": []
  },
  {
   "cell_type": "markdown",
   "id": "e67559cb",
   "metadata": {},
   "source": [
    "#input -> find my reversal i am a sentence\n",
    "#output -> dnif ym lasrever i ma a ecnetnes"
   ]
  },
  {
   "cell_type": "code",
   "execution_count": 82,
   "id": "a6b81112",
   "metadata": {},
   "outputs": [
    {
     "name": "stdout",
     "output_type": "stream",
     "text": [
      "Enter input: find my reversal i am a sentence\n",
      "\n",
      "Output\n",
      "dnif ym lasrever i ma a ecnetnes \n"
     ]
    }
   ],
   "source": [
    "def rev(s):\n",
    "    t = str()\n",
    "    for i in list(s):\n",
    "        t = i+t\n",
    "    return t\n",
    "\n",
    "inp = input(\"Enter input: \").split(\" \")\n",
    "res = str()\n",
    "for i in inp:\n",
    "    #res += i[::-1] + \" \"\n",
    "    res += rev(i) + \" \"\n",
    "\n",
    "print(\"\\nOutput\")\n",
    "print(res)"
   ]
  },
  {
   "cell_type": "code",
   "execution_count": 105,
   "id": "3ec4684e",
   "metadata": {},
   "outputs": [
    {
     "name": "stdout",
     "output_type": "stream",
     "text": [
      "Enter input: find my reversal i am a sentence\n",
      "\n",
      "output\n",
      "dnif ym lasrever i ma a ecnetnes "
     ]
    }
   ],
   "source": [
    "def rev(s):\n",
    "    t = []\n",
    "    for i in range(len(s)-1, -1, -1):\n",
    "        t.append(s[i])\n",
    "    r = \"\"\n",
    "    for i in t:\n",
    "        r += i;\n",
    "    return r\n",
    "        \n",
    "\n",
    "def splitString(s,c):\n",
    "    res = []\n",
    "    t = str()\n",
    "    for i in range(len(s)):\n",
    "        if s[i] == c:\n",
    "            res.append(t)\n",
    "            t = \"\"\n",
    "        else:\n",
    "            t += s[i]\n",
    "    res.append(t)\n",
    "    return res\n",
    "            \n",
    "\n",
    "inp = input(\"Enter input: \")\n",
    "inp = splitString(inp, \" \")\n",
    "\n",
    "print(\"\\noutput\")\n",
    "for i in inp:\n",
    "    print(rev(i), end = \" \")"
   ]
  },
  {
   "cell_type": "code",
   "execution_count": null,
   "id": "fec1f145",
   "metadata": {},
   "outputs": [],
   "source": []
  },
  {
   "cell_type": "code",
   "execution_count": 116,
   "id": "0fe352e6",
   "metadata": {},
   "outputs": [
    {
     "name": "stdout",
     "output_type": "stream",
     "text": [
      "String x: devil\n",
      "String y: device\n",
      "2\n"
     ]
    }
   ],
   "source": [
    "def minCount(x,y,m,n):\n",
    "    if m == 0 or n == 0:\n",
    "        return 0;\n",
    "    elif x[m-1] == y[n-1]:\n",
    "        return 1 + minCount(x,y,m-1,n-1)\n",
    "    else:\n",
    "        return max(minCount(x,y,m,n-1), minCount(x,y,m-1,n))\n",
    "            \n",
    "x = input(\"String x: \")\n",
    "y = input(\"String y: \")\n",
    "\n",
    "res = minCount(x, y, len(x), len(y))\n",
    "m = max(len(x), len(y))\n",
    "print(m - res)\n"
   ]
  },
  {
   "cell_type": "code",
   "execution_count": 129,
   "id": "5acb17d8",
   "metadata": {},
   "outputs": [
    {
     "name": "stdout",
     "output_type": "stream",
     "text": [
      "String x: replay\n",
      "String y: playback\n",
      "8\n"
     ]
    }
   ],
   "source": [
    "def minCount(x,y):\n",
    "    i = len(x)\n",
    "    j = len(y)\n",
    "    m = 0\n",
    "    n = 0\n",
    "    count = 0\n",
    "    while m < i and n < j:\n",
    "        if x[m] != y[n]:\n",
    "            count += 1\n",
    "        m += 1\n",
    "        n += 1\n",
    "    \n",
    "    return count + (i-m) + (j - n)\n",
    "            \n",
    "            \n",
    "x = input(\"String x: \")\n",
    "y = input(\"String y: \")\n",
    "\n",
    "res = minCount(x, y)\n",
    "print(res)"
   ]
  },
  {
   "cell_type": "code",
   "execution_count": null,
   "id": "1ca5ed44",
   "metadata": {},
   "outputs": [],
   "source": [
    "def lcs(x,y,m,n):\n",
    "    L = [[0 for i in range(n+1)] for i in range(m+1)]\n",
    "    for i in range(m+1):\n",
    "        for j in range(n+1):\n",
    "            if i == 0 or j == 0:\n",
    "                L[i][j] = 0\n",
    "            elif x[i-1] == y[i-1]:\n",
    "                L[i][j] = L[i-1][j-1] + 1\n",
    "            else:\n",
    "                L[i][j] = max(L[i-1][j], L[i][j-1])\n",
    "    index = L[m][n]\n",
    "    lcs = [\"\"] * (index+1)\n",
    "    lcs[index] = \"\"\n",
    "    i = m\n",
    "    j = n\n",
    "    while i > 0\n",
    "            \n",
    "x = input(\"String x: \")\n",
    "y = input(\"String y: \")\n",
    "\n",
    "res = minCount(x, y, len(x), len(y))\n",
    "m = max(len(x), len(y))\n",
    "print(m - res)\n"
   ]
  }
 ],
 "metadata": {
  "kernelspec": {
   "display_name": "Python 3",
   "language": "python",
   "name": "python3"
  },
  "language_info": {
   "codemirror_mode": {
    "name": "ipython",
    "version": 3
   },
   "file_extension": ".py",
   "mimetype": "text/x-python",
   "name": "python",
   "nbconvert_exporter": "python",
   "pygments_lexer": "ipython3",
   "version": "3.9.1"
  }
 },
 "nbformat": 4,
 "nbformat_minor": 5
}
