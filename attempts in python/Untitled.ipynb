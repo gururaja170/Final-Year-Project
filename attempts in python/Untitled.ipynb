{
 "cells": [
  {
   "cell_type": "code",
   "execution_count": 34,
   "id": "e85003e8",
   "metadata": {},
   "outputs": [],
   "source": [
    "#revature\n",
    "def sumNum(N, A):\n",
    "    res = []\n",
    "    ref = list(sorted(set(A)))\n",
    "    for i in A:\n",
    "        s = 0\n",
    "        index = ref.index(i)\n",
    "        if index == 0:\n",
    "            s = ref[index+1]\n",
    "        if index == len(ref)-1:\n",
    "            s = ref[index-1]\n",
    "        if index > 0 and index < len(ref)-1:\n",
    "            s = ref[index + 1] + ref[index-1] \n",
    "        res.append(s)\n",
    "    return res"
   ]
  },
  {
   "cell_type": "code",
   "execution_count": 35,
   "id": "819284a3",
   "metadata": {},
   "outputs": [
    {
     "name": "stdout",
     "output_type": "stream",
     "text": [
      "63 132 51 120 23 163 68 86 86 104 "
     ]
    }
   ],
   "source": [
    "N = 10\n",
    "A = [33,67,23,64,18,68,96,40,40,53]\n",
    "for i in sumNum(N,A):\n",
    "    print(i, end= \" \")"
   ]
  },
  {
   "cell_type": "code",
   "execution_count": null,
   "id": "d34a5975",
   "metadata": {},
   "outputs": [],
   "source": []
  },
  {
   "cell_type": "code",
   "execution_count": null,
   "id": "54ec5419",
   "metadata": {},
   "outputs": [],
   "source": []
  },
  {
   "cell_type": "code",
   "execution_count": null,
   "id": "fc8266c9",
   "metadata": {},
   "outputs": [],
   "source": []
  },
  {
   "cell_type": "code",
   "execution_count": 128,
   "id": "8a97a54c",
   "metadata": {},
   "outputs": [
    {
     "ename": "IndentationError",
     "evalue": "expected an indented block (<ipython-input-128-149e0aec61c9>, line 20)",
     "output_type": "error",
     "traceback": [
      "\u001b[1;36m  File \u001b[1;32m\"<ipython-input-128-149e0aec61c9>\"\u001b[1;36m, line \u001b[1;32m20\u001b[0m\n\u001b[1;33m    k=0\u001b[0m\n\u001b[1;37m    ^\u001b[0m\n\u001b[1;31mIndentationError\u001b[0m\u001b[1;31m:\u001b[0m expected an indented block\n"
     ]
    }
   ],
   "source": [
    "# def ascendingOrder(N, A):\n",
    "#     count = 0\n",
    "#     if A == sorted(A):\n",
    "#         return 0\n",
    "#     for i in range(N):\n",
    "#         count += 1\n",
    "#         if A[i:N-1] == sorted(A[i:N-1]):\n",
    "#             break\n",
    "#         if A[i+1:N] == sorted(A[i+1:N]):\n",
    "#             break\n",
    "#     return count\n",
    "\n",
    "#revature\n",
    "def ascendingOrder(N,A):\n",
    "    k=0\n",
    "    a=0\n",
    "    p=[]\n",
    "    for i in range(0,N):\n",
    "        v=A[i]\n",
    "        if A[i]==max(A):\n",
    "            k=0\n",
    "        else:\n",
    "            for j in range(v+1,max(A)+1):\n",
    "                if j in A:\n",
    "                if j>v:\n",
    "                    k=j\n",
    "                    break\n",
    "    m=A[i]\n",
    "    if A[i]==min(A):\n",
    "        a=0\n",
    "    else:\n",
    "        for s in range(0,A[i]):\n",
    "            if s in A:\n",
    "                if s<m:\n",
    "                    a=s\n",
    "    p.append(a+k)"
   ]
  },
  {
   "cell_type": "code",
   "execution_count": 127,
   "id": "8148f9de",
   "metadata": {},
   "outputs": [
    {
     "name": "stdout",
     "output_type": "stream",
     "text": [
      "8\n"
     ]
    }
   ],
   "source": [
    "N = 10\n",
    "A = [6,3,2,1,10,7,8,9,4,5]\n",
    "# N = 6\n",
    "# A = [2,3,4,5,6,1]\n",
    "print(ascendingOrder(N, A))"
   ]
  },
  {
   "cell_type": "code",
   "execution_count": null,
   "id": "3a03d754",
   "metadata": {},
   "outputs": [],
   "source": []
  },
  {
   "cell_type": "code",
   "execution_count": 4,
   "id": "dd6532e6",
   "metadata": {},
   "outputs": [],
   "source": []
  },
  {
   "cell_type": "code",
   "execution_count": null,
   "id": "303e68fb",
   "metadata": {},
   "outputs": [],
   "source": []
  },
  {
   "cell_type": "code",
   "execution_count": 6,
   "id": "8abc0200",
   "metadata": {},
   "outputs": [],
   "source": []
  },
  {
   "cell_type": "code",
   "execution_count": null,
   "id": "60a572dc",
   "metadata": {},
   "outputs": [],
   "source": []
  },
  {
   "cell_type": "code",
   "execution_count": null,
   "id": "1e164508",
   "metadata": {},
   "outputs": [],
   "source": []
  },
  {
   "cell_type": "code",
   "execution_count": 5,
   "id": "32562a95",
   "metadata": {},
   "outputs": [
    {
     "name": "stdout",
     "output_type": "stream",
     "text": [
      "1 2 3\n"
     ]
    },
    {
     "data": {
      "text/plain": [
       "0"
      ]
     },
     "execution_count": 5,
     "metadata": {},
     "output_type": "execute_result"
    }
   ],
   "source": [
    "#accenture \n",
    "from math import comb\n",
    "class Sol:\n",
    "    def valid_count(self, nums):\n",
    "            if len(nums) <=1:\n",
    "                return 1\n",
    "            root = nums[0]\n",
    "            left = [i for i in nums if i<root]\n",
    "            right = [i for i in nums if i>root]\n",
    "            i, j = len(left), len(right)\n",
    "\n",
    "            return  comb(i+j, i) * self.valid_count(left) * self.valid_count(right)\n",
    "\n",
    "    def numOfWays(self, nums):\n",
    "            return (self.valid_count(nums) - 1) % (10**9 + 7)\n",
    "\n",
    "li = list(map(int, input().split(\" \")))\n",
    "Sol().numOfWays(li)\n"
   ]
  },
  {
   "cell_type": "code",
   "execution_count": 10,
   "id": "0fd81eaa",
   "metadata": {},
   "outputs": [
    {
     "name": "stdout",
     "output_type": "stream",
     "text": [
      "1 2 3\n",
      "3\n"
     ]
    }
   ],
   "source": [
    "inp = list(map(int, input().split(\" \")))\n",
    "s = 0\n",
    "for i in range(len(inp)-1):\n",
    "    s += inp[i]\n",
    "    if(s == inp[i+1]):\n",
    "        s += inp[i]\n",
    "        x = inp[i+1]\n",
    "print(x)"
   ]
  },
  {
   "cell_type": "code",
   "execution_count": null,
   "id": "d39a56e8",
   "metadata": {},
   "outputs": [],
   "source": []
  },
  {
   "cell_type": "code",
   "execution_count": null,
   "id": "855b2eee",
   "metadata": {},
   "outputs": [],
   "source": []
  },
  {
   "cell_type": "code",
   "execution_count": 5,
   "id": "f2411a31",
   "metadata": {},
   "outputs": [
    {
     "name": "stdout",
     "output_type": "stream",
     "text": [
      "sstt\n",
      "5\n"
     ]
    }
   ],
   "source": [
    "#walmart codehers\n",
    "from itertools import combinations\n",
    "res = set()\n",
    "s = input()\n",
    "res.add(s)\n",
    "num = [i for i in range(len(s))]\n",
    "op = combinations(num, 2)\n",
    "s = list(s)\n",
    "for i in op:\n",
    "    if i[0] <= i[1]:\n",
    "        s[i[0]],s[i[1]] = s[i[1]],s[i[0]]\n",
    "        res.add(''.join(s))\n",
    "        s[i[0]],s[i[1]] = s[i[1]],s[i[0]]\n",
    "print(len(res))"
   ]
  },
  {
   "cell_type": "code",
   "execution_count": null,
   "id": "ba3419ac",
   "metadata": {},
   "outputs": [],
   "source": []
  },
  {
   "cell_type": "code",
   "execution_count": null,
   "id": "8c458679",
   "metadata": {},
   "outputs": [],
   "source": []
  },
  {
   "cell_type": "code",
   "execution_count": 5,
   "id": "0849eeb4",
   "metadata": {},
   "outputs": [],
   "source": [
    "#uber\n",
    "def fun(arr, n):\n",
    "    if n==1:\n",
    "        return arr[0]\n",
    "    else:\n",
    "        res = []\n",
    "        for i in range(len(arr)-1):\n",
    "            res.append(arr[i] ^ arr[i+1])\n",
    "        return fun(res, n-1)\n",
    "    "
   ]
  },
  {
   "cell_type": "code",
   "execution_count": 22,
   "id": "482bd854",
   "metadata": {},
   "outputs": [],
   "source": [
    "arr = [1,2,4,8,16,32]\n",
    "n = 6\n",
    "q = 3\n",
    "queries = [[1,3], [2,5], [1,6]]\n",
    "res = []\n",
    "for i in queries:\n",
    "    l = i[0]-1\n",
    "    r = i[1]\n",
    "    op = []\n",
    "    part = arr[l:r]\n",
    "    for j in range(len(part)):\n",
    "        for k in range(j+1,len(part)+1):\n",
    "            op.append(fun(part[j:k], len(part[j:k])))\n",
    "    res.append(max(op))"
   ]
  },
  {
   "cell_type": "code",
   "execution_count": 23,
   "id": "753fa0a9",
   "metadata": {},
   "outputs": [
    {
     "name": "stdout",
     "output_type": "stream",
     "text": [
      "[6, 30, 60]\n"
     ]
    }
   ],
   "source": [
    "print(res)"
   ]
  },
  {
   "cell_type": "code",
   "execution_count": null,
   "id": "c81e8376",
   "metadata": {},
   "outputs": [],
   "source": []
  },
  {
   "cell_type": "code",
   "execution_count": null,
   "id": "8cd55f80",
   "metadata": {},
   "outputs": [],
   "source": []
  },
  {
   "cell_type": "code",
   "execution_count": null,
   "id": "ade0d4f4",
   "metadata": {},
   "outputs": [],
   "source": []
  },
  {
   "cell_type": "code",
   "execution_count": 3,
   "id": "2286a23c",
   "metadata": {},
   "outputs": [],
   "source": [
    "x = sorted([6, 4, 1, 7, 10])\n",
    "leftMedian = lambda x:sorted(x)[len(x)//2]\n",
    "def minSteps(array):\n",
    "    target = range(len(array))\n",
    "    diffs = [t-a for t,a in zip(target,array)]\n",
    "    medianOfDiffs = leftMedian(diffs)\n",
    "    return sum(abs(d-medianOfDiffs) for d in diffs)"
   ]
  },
  {
   "cell_type": "code",
   "execution_count": 5,
   "id": "d0235d8c",
   "metadata": {},
   "outputs": [
    {
     "data": {
      "text/plain": [
       "6"
      ]
     },
     "execution_count": 5,
     "metadata": {},
     "output_type": "execute_result"
    }
   ],
   "source": [
    "minSteps(x)"
   ]
  },
  {
   "cell_type": "code",
   "execution_count": 1,
   "id": "d7ff1526",
   "metadata": {},
   "outputs": [],
   "source": [
    "def cutTheRopes(a, k):\n",
    "    temp = [i for i in range(1,max(a)+1)]\n",
    "    op = {}\n",
    "    filtereddict = {}\n",
    "    for i in temp:\n",
    "        s = 0\n",
    "        for j in a:\n",
    "            s += j//i\n",
    "        op[i] = s\n",
    "    for key,v in op.items():\n",
    "        if v >= k:\n",
    "            if filtereddict.get(key) == None:\n",
    "                filtereddict[key] = v\n",
    "            else:\n",
    "                t = filtereddict.get(key)\n",
    "                if key > t:\n",
    "                    filtereddict[key] = v\n",
    "    res = sorted(filtereddict)\n",
    "    return res[-1]"
   ]
  },
  {
   "cell_type": "code",
   "execution_count": null,
   "id": "77a6e914",
   "metadata": {},
   "outputs": [],
   "source": []
  },
  {
   "cell_type": "code",
   "execution_count": null,
   "id": "7ea48204",
   "metadata": {},
   "outputs": [],
   "source": []
  },
  {
   "cell_type": "code",
   "execution_count": 11,
   "id": "4b45170b",
   "metadata": {},
   "outputs": [
    {
     "name": "stdout",
     "output_type": "stream",
     "text": [
      "102 1\n",
      "48\n"
     ]
    }
   ],
   "source": [
    "def getCount(n):\n",
    "    t = bin(n).replace(\"0b\",\"\")\n",
    "    s = 0\n",
    "    for i in range(0,len(t),2):\n",
    "        s += t.count(\"101\",i)\n",
    "    return s\n",
    "\n",
    "r,k = list(map(int,input().split(\" \")))\n",
    "count = 0\n",
    "for i in range(1, r+1):\n",
    "    if getCount(i) >= k:\n",
    "        count += 1\n",
    "print(count)"
   ]
  },
  {
   "cell_type": "code",
   "execution_count": null,
   "id": "6f0f60af",
   "metadata": {},
   "outputs": [],
   "source": []
  }
 ],
 "metadata": {
  "kernelspec": {
   "display_name": "Python 3",
   "language": "python",
   "name": "python3"
  },
  "language_info": {
   "codemirror_mode": {
    "name": "ipython",
    "version": 3
   },
   "file_extension": ".py",
   "mimetype": "text/x-python",
   "name": "python",
   "nbconvert_exporter": "python",
   "pygments_lexer": "ipython3",
   "version": "3.9.1"
  }
 },
 "nbformat": 4,
 "nbformat_minor": 5
}
